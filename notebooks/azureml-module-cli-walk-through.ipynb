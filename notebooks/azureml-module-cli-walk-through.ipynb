{
 "cells": [
  {
   "cell_type": "markdown",
   "metadata": {},
   "source": [
    "Copyright (c) Microsoft Corporation. All rights reserved.\n",
    "\n",
    "Licensed under the MIT License."
   ]
  },
  {
   "cell_type": "markdown",
   "metadata": {},
   "source": [
    "# Module CLI walk through\n",
    "\n",
    "This file demonstrates how to operate on azureml modules with the module CLI.\n",
    "\n",
    "* Register/update modules from various type of resources.\n",
    "* Validate yaml spec before registering to workspace.\n",
    "* Enable/disable modules.\n",
    "* Download modules.\n"
   ]
  },
  {
   "cell_type": "markdown",
   "metadata": {},
   "source": [
    "## Environment setup\n",
    "\n",
    "Please follow [the instructions here](azureml-module-get-started.ipynb) to install the module CLI, and setup a workspace."
   ]
  },
  {
   "cell_type": "markdown",
   "metadata": {},
   "source": [
    "## Register azureml modules\n",
    "\n",
    "Module could be registered from:\n",
    "- local path\n",
    "- public GitHub url\n",
    "- zip package containing module source (typically created by Azure DevOps as build artifacts)\n"
   ]
  },
  {
   "cell_type": "code",
   "execution_count": 1,
   "metadata": {},
   "outputs": [
    {
     "output_type": "stream",
     "name": "stdout",
     "text": "\u001b[K{\n  \"contact\": \"AzureML Studio Team <stcamlstudiosg@microsoft.com>\",\n  \"description\": \"Basic module for demo.\",\n  \"helpDocument\": \"http://readthedocs.com/proj\",\n  \"lastUpdatedOn\": \"2020-06-09T04:21:45.622098Z\",\n  \"moduleID\": \"2649ccda-c83b-4b24-981d-26ec83c426d8\",\n  \"name\": \"Sample Module\",\n  \"namespace\": \"microsoft.com/office\",\n  \"registeredBy\": \"Zhidong Zhu\",\n  \"registeredOn\": \"2020-06-09T04:21:44.4617827Z\",\n  \"shared_scope\": \"Workspace\",\n  \"source\": \"Local files\",\n  \"status\": \"Active\",\n  \"tags\": \"nlp, bert\",\n  \"type\": \"Basic\",\n  \"version\": \"0.1.0\",\n  \"versions\": \"0.1.0 (Default)\",\n  \"yamlLink\": \"module_spec.yaml\"\n}\n\u001b[0m"
    }
   ],
   "source": [
    "!az ml module register --spec-file=resources/cli_walk_through/sample_module_0.1.0/module_spec.yaml"
   ]
  },
  {
   "cell_type": "code",
   "execution_count": 2,
   "metadata": {},
   "outputs": [
    {
     "output_type": "stream",
     "name": "stdout",
     "text": "\u001b[K{\n  \"contact\": null,\n  \"description\": \"Mpi module for demo.\",\n  \"helpDocument\": null,\n  \"lastUpdatedOn\": \"2020-06-09T04:21:57.5655798Z\",\n  \"moduleID\": \"b53b263c-1bcc-429e-93fa-59369c4b71ce\",\n  \"name\": \"Mpi Module\",\n  \"namespace\": \"microsoft.com/office\",\n  \"registeredBy\": \"Zhidong Zhu\",\n  \"registeredOn\": \"2020-06-09T04:21:56.6861421Z\",\n  \"shared_scope\": \"Workspace\",\n  \"source\": \"Github repo\",\n  \"status\": \"Active\",\n  \"tags\": null,\n  \"type\": \"Mpi\",\n  \"version\": \"0.0.1\",\n  \"versions\": \"0.0.1 (Default)\",\n  \"yamlLink\": \"https://github.com/zzn2/sample_modules/blob/master/4_mpi_module/mpi_module.yaml\"\n}\n\u001b[0m"
    }
   ],
   "source": [
    "!az ml module register --spec-file=https://github.com/zzn2/sample_modules/blob/master/4_mpi_module/mpi_module.yaml"
   ]
  },
  {
   "cell_type": "code",
   "execution_count": 3,
   "metadata": {},
   "outputs": [
    {
     "output_type": "stream",
     "name": "stdout",
     "text": "\u001b[K - Registering ..\u001b[K \\ Registering ..\u001b[K | Registering ..\u001b[33mRegistered new version None, but the module default version kept to be None.\nUse \"az ml module set-default-version\" or \"az ml module register --set-as-default-version\" to set default version.\u001b[0m\n\u001b[K{\n  \"contact\": null,\n  \"description\": null,\n  \"helpDocument\": null,\n  \"lastUpdatedOn\": null,\n  \"moduleID\": null,\n  \"name\": null,\n  \"namespace\": null,\n  \"registeredBy\": null,\n  \"registeredOn\": null,\n  \"shared_scope\": \"Unknown\",\n  \"source\": \"Unknown\",\n  \"status\": \"Unknown\",\n  \"tags\": null,\n  \"type\": null,\n  \"version\": null,\n  \"versions\": \"\",\n  \"yamlLink\": null\n}\n\u001b[0m"
    }
   ],
   "source": [
    "!az ml module register --package-zip=\"https://github.com/zzn2/sample_modules/blob/master/one_spec.zip?raw=true\""
   ]
  },
  {
   "cell_type": "markdown",
   "metadata": {},
   "source": [
    "## Validate module spec\n",
    "\n",
    "Module spec could be validated before registering to the workspace. Error message will be displayed if validate failed."
   ]
  },
  {
   "cell_type": "code",
   "execution_count": 4,
   "metadata": {},
   "outputs": [
    {
     "output_type": "stream",
     "name": "stdout",
     "text": "\u001b[K{\n  \"contact\": \"AzureML Studio Team <stcamlstudiosg@microsoft.com>\",\n  \"description\": \"Basic module for demo.\",\n  \"helpDocument\": \"http://readthedocs.com/proj\",\n  \"name\": \"Sample Module\",\n  \"namespace\": \"microsoft.com/office\",\n  \"source\": \"Local files\",\n  \"tags\": \"nlp, bert\",\n  \"type\": \"Basic\",\n  \"version\": \"0.1.2\",\n  \"yamlLink\": \"module_spec.yaml\"\n}\n\u001b[0m"
    }
   ],
   "source": [
    "!az ml module validate-spec -f resources/cli_walk_through/sample_module_0.1.2/module_spec.yaml"
   ]
  },
  {
   "cell_type": "code",
   "execution_count": 5,
   "metadata": {},
   "outputs": [
    {
     "output_type": "stream",
     "name": "stdout",
     "text": "\u001b[K\u001b[91madditionalIncludes path /home/zhizhu/ModuleDocs/notebooks/resources/walk-through.md was not found.\u001b[0m\n\u001b[0m"
    }
   ],
   "source": [
    "!az ml module validate-spec -f resources/cli_walk_through/invalid_missing_entry/module_spec.yaml"
   ]
  },
  {
   "cell_type": "code",
   "execution_count": 6,
   "metadata": {},
   "outputs": [
    {
     "output_type": "stream",
     "name": "stdout",
     "text": "\nat Line: 4, Col: 1, Idx: 74; Missing required properties: [\"implementation\"]. \u001b[0m\n\u001b[0m"
    }
   ],
   "source": [
    "!az ml module validate-spec -f resources/cli_walk_through/invalid_missing_required_attributes/module_spec.yaml"
   ]
  },
  {
   "cell_type": "markdown",
   "metadata": {},
   "source": [
    "## List modules\n",
    "\n",
    "The modules registered could be listed using the `module list` command. Add `-o table` to make the output formatted as a table."
   ]
  },
  {
   "cell_type": "code",
   "execution_count": 7,
   "metadata": {},
   "outputs": [
    {
     "output_type": "stream",
     "name": "stdout",
     "text": "\u001b[KDefaultVersion    Name           Namespace                      Status    Tags\n----------------  -------------  -----------------------------  --------  ---------------\n0.0.1             First Module   microsoft.com/azureml/samples  Active    AzureML, Sample\n0.1.0             Sample Module  microsoft.com/office           Active    nlp, bert\n0.0.1             Mpi Module     microsoft.com/office           Active\n\u001b[0m"
    }
   ],
   "source": [
    "!az ml module list -o table"
   ]
  },
  {
   "cell_type": "markdown",
   "metadata": {},
   "source": [
    "## Module upgrading, version vs default version\n",
    "\n",
    "One module could have multiple versions. Each module has a \"default version\", which will be applied when not specified.\n",
    "\n",
    "Use `module register` command to register a new version of a module. By default, a `module register` command does not change the default version of a module (unless registering a new module for the first time)."
   ]
  },
  {
   "cell_type": "code",
   "execution_count": 8,
   "metadata": {},
   "outputs": [
    {
     "output_type": "stream",
     "name": "stdout",
     "text": "\u001b[K\u001b[K | Registering ..\u001b[K / Registering ..\u001b[K - Registering ..\u001b[K \\ Registering ..\u001b[K | Registering ..\u001b[K / Registering ..\u001b[K - Registering ..\u001b[K \\ Registering ..\u001b[K | Registering ..\u001b[K / Registering ..\u001b[K - Registering ..\u001b[K \\ Registering ..\u001b[K | Registering ..\u001b[K / Registering ..\u001b[K - Registering ..\u001b[K \\ Registering ..\u001b[K | Registering ..\u001b[K / Registering ..\u001b[K - Registering ..\u001b[K \\ Registering ..\u001b[K | Registering ..\u001b[K / Registering ..\u001b[K - Registering ..\u001b[K \\ Registering ..\u001b[K | Registering ..\u001b[K / Registering ..\u001b[K - Registering ..\u001b[K \\ Registering ..\u001b[K | Registering ..\u001b[K / Registering ..\u001b[K - Registering ..\u001b[K \\ Registering ..\u001b[K | Registering ..\u001b[K / Registering ..\u001b[K - Registering ..\u001b[K \\ Registering ..\u001b[K | Registering ..\u001b[K / Registering ..\u001b[K - Registering ..\u001b[K \\ Registering ..\u001b[K | Registering ..\u001b[K / Registering ..\u001b[K - Registering ..\u001b[K \\ Registering ..\u001b[K | Registering ..\u001b[K / Registering ..\u001b[K - Registering ..\u001b[K \\ Registering ..\u001b[33mRegistered new version 0.1.1, but the module default version kept to be 0.1.0.\nUse \"az ml module set-default-version\" or \"az ml module register --set-as-default-version\" to set default version.\u001b[0m\n\u001b[K{\n  \"contact\": \"AzureML Studio Team <stcamlstudiosg@microsoft.com>\",\n  \"description\": \"Basic module for demo.\",\n  \"helpDocument\": \"http://readthedocs.com/proj\",\n  \"lastUpdatedOn\": \"2020-06-09T04:23:16.5984018Z\",\n  \"moduleID\": \"5134d939-7df8-435f-829f-20c7667b13bc\",\n  \"name\": \"Sample Module\",\n  \"namespace\": \"microsoft.com/office\",\n  \"registeredBy\": \"Zhidong Zhu\",\n  \"registeredOn\": \"2020-06-09T04:21:44.4617827Z\",\n  \"shared_scope\": \"Workspace\",\n  \"source\": \"Local files\",\n  \"status\": \"Active\",\n  \"tags\": \"nlp, bert\",\n  \"type\": \"Basic\",\n  \"version\": \"0.1.1\",\n  \"versions\": \"0.1.0 (Default), 0.1.1\",\n  \"yamlLink\": \"module_spec.yaml\"\n}\n\u001b[0m"
    }
   ],
   "source": [
    "!az ml module register --spec-file=resources/cli_walk_through/sample_module_0.1.1/module_spec.yaml"
   ]
  },
  {
   "cell_type": "markdown",
   "metadata": {},
   "source": [
    "The default version could be changed when specified `--set-as-default-version` to the `module register` command.\n",
    "\n"
   ]
  },
  {
   "cell_type": "code",
   "execution_count": 9,
   "metadata": {},
   "outputs": [
    {
     "output_type": "stream",
     "name": "stdout",
     "text": "\u001b[K{\n  \"contact\": \"AzureML Studio Team <stcamlstudiosg@microsoft.com>\",\n  \"description\": \"Basic module for demo.\",\n  \"helpDocument\": \"http://readthedocs.com/proj\",\n  \"lastUpdatedOn\": \"2020-06-09T04:23:54.9633934Z\",\n  \"moduleID\": \"6bffb721-4ba1-4bf6-837f-f9449d29f40f\",\n  \"name\": \"Sample Module\",\n  \"namespace\": \"microsoft.com/office\",\n  \"registeredBy\": \"Zhidong Zhu\",\n  \"registeredOn\": \"2020-06-09T04:21:44.4617827Z\",\n  \"shared_scope\": \"Workspace\",\n  \"source\": \"Local files\",\n  \"status\": \"Active\",\n  \"tags\": \"nlp, bert\",\n  \"type\": \"Basic\",\n  \"version\": \"0.1.2\",\n  \"versions\": \"0.1.0, 0.1.1, 0.1.2 (Default)\",\n  \"yamlLink\": \"module_spec.yaml\"\n}\n\u001b[0m"
    }
   ],
   "source": [
    "!az ml module register --spec-file=resources/cli_walk_through/sample_module_0.1.2/module_spec.yaml --set-as-default-version"
   ]
  },
  {
   "cell_type": "markdown",
   "metadata": {},
   "source": [
    "The default version could also be changed any time using a `module set-default-version` command:\n"
   ]
  },
  {
   "cell_type": "code",
   "execution_count": 10,
   "metadata": {},
   "outputs": [
    {
     "output_type": "stream",
     "name": "stdout",
     "text": "\u001b[K{\n  \"contact\": \"AzureML Studio Team <stcamlstudiosg@microsoft.com>\",\n  \"description\": \"Basic module for demo.\",\n  \"helpDocument\": \"http://readthedocs.com/proj\",\n  \"lastUpdatedOn\": \"2020-06-09T04:24:43.1711319Z\",\n  \"moduleID\": \"2649ccda-c83b-4b24-981d-26ec83c426d8\",\n  \"name\": \"Sample Module\",\n  \"namespace\": \"microsoft.com/office\",\n  \"registeredBy\": \"Zhidong Zhu\",\n  \"registeredOn\": \"2020-06-09T04:21:44.4617827Z\",\n  \"shared_scope\": \"Workspace\",\n  \"source\": \"Local files\",\n  \"status\": \"Active\",\n  \"tags\": \"nlp, bert\",\n  \"type\": \"Basic\",\n  \"version\": \"0.1.0\",\n  \"versions\": \"0.1.0 (Default), 0.1.1, 0.1.2\",\n  \"yamlLink\": \"module_spec.yaml\"\n}\n\u001b[0m"
    }
   ],
   "source": [
    "!az ml module set-default-version --name=\"Sample Module\" --version=0.1.0"
   ]
  },
  {
   "cell_type": "markdown",
   "metadata": {},
   "source": [
    "## Show detail of a module\n",
    "\n",
    "Use `az ml module show` command to show the detail information of a module."
   ]
  },
  {
   "cell_type": "code",
   "execution_count": 11,
   "metadata": {},
   "outputs": [
    {
     "output_type": "stream",
     "name": "stdout",
     "text": "\u001b[K{\n  \"contact\": \"AzureML Studio Team <stcamlstudiosg@microsoft.com>\",\n  \"description\": \"Basic module for demo.\",\n  \"helpDocument\": \"http://readthedocs.com/proj\",\n  \"lastUpdatedOn\": \"2020-06-09T04:24:43.1711319Z\",\n  \"moduleID\": \"2649ccda-c83b-4b24-981d-26ec83c426d8\",\n  \"name\": \"Sample Module\",\n  \"namespace\": \"microsoft.com/office\",\n  \"registeredBy\": \"Zhidong Zhu\",\n  \"registeredOn\": \"2020-06-09T04:21:44.4617827Z\",\n  \"shared_scope\": \"Workspace\",\n  \"source\": \"Local files\",\n  \"status\": \"Active\",\n  \"tags\": \"nlp, bert\",\n  \"type\": \"Basic\",\n  \"version\": \"0.1.0\",\n  \"versions\": \"0.1.0 (Default), 0.1.1, 0.1.2\",\n  \"yamlLink\": \"module_spec.yaml\"\n}\n\u001b[0m"
    }
   ],
   "source": [
    "!az ml module show --name=\"Sample Module\""
   ]
  },
  {
   "cell_type": "markdown",
   "metadata": {},
   "source": [
    "By default, `az ml module show` shows the default version of a module. It is also able to show any specific version of a module with a `--version` option.\n",
    "\n"
   ]
  },
  {
   "cell_type": "code",
   "execution_count": 12,
   "metadata": {},
   "outputs": [
    {
     "output_type": "stream",
     "name": "stdout",
     "text": "\u001b[K{\n  \"contact\": \"AzureML Studio Team <stcamlstudiosg@microsoft.com>\",\n  \"description\": \"Basic module for demo.\",\n  \"helpDocument\": \"http://readthedocs.com/proj\",\n  \"lastUpdatedOn\": \"2020-06-09T04:24:43.1711319Z\",\n  \"moduleID\": \"5134d939-7df8-435f-829f-20c7667b13bc\",\n  \"name\": \"Sample Module\",\n  \"namespace\": \"microsoft.com/office\",\n  \"registeredBy\": \"Zhidong Zhu\",\n  \"registeredOn\": \"2020-06-09T04:21:44.4617827Z\",\n  \"shared_scope\": \"Workspace\",\n  \"source\": \"Local files\",\n  \"status\": \"Active\",\n  \"tags\": \"nlp, bert\",\n  \"type\": \"Basic\",\n  \"version\": \"0.1.1\",\n  \"versions\": \"0.1.0 (Default), 0.1.1, 0.1.2\",\n  \"yamlLink\": \"module_spec.yaml\"\n}\n\u001b[0m"
    }
   ],
   "source": [
    "!az ml module show --name=\"Sample Module\" --version=0.1.1"
   ]
  },
  {
   "cell_type": "markdown",
   "metadata": {},
   "source": [
    "By default, `az ml module show` shows the modules in the default namespace specified with `az configure --defaults module_namespace=xx`. To list modules in non-default namespaces, specify the `--namespace` in the command line.\n",
    "\n"
   ]
  },
  {
   "cell_type": "code",
   "execution_count": 15,
   "metadata": {},
   "outputs": [
    {
     "output_type": "stream",
     "name": "stdout",
     "text": "\u001b[K{\n  \"contact\": null,\n  \"description\": \"First module created for AzureML.\",\n  \"helpDocument\": null,\n  \"lastUpdatedOn\": \"2020-06-09T04:19:27.769024Z\",\n  \"moduleID\": \"f7d34403-3362-43e1-9664-4728807c0197\",\n  \"name\": \"First Module\",\n  \"namespace\": \"microsoft.com/azureml/samples\",\n  \"registeredBy\": \"Zhidong Zhu\",\n  \"registeredOn\": \"2020-06-09T04:19:25.8324258Z\",\n  \"shared_scope\": \"Workspace\",\n  \"source\": \"Azure DevOps artifacts\",\n  \"status\": \"Active\",\n  \"tags\": \"AzureML, Sample\",\n  \"type\": \"Basic\",\n  \"version\": \"0.0.1\",\n  \"versions\": \"0.0.1 (Default)\",\n  \"yamlLink\": \"module_spec.yaml\"\n}\n\u001b[0m"
    }
   ],
   "source": [
    "!az ml module show --name=\"First Module\" --namespace=microsoft.com/azureml/samples"
   ]
  },
  {
   "cell_type": "markdown",
   "metadata": {},
   "source": [
    "## Disable & enable modules\n",
    "\n",
    "A module could be disabled or enabled by the `az ml module disable` `az ml module enable` commands. Disabled modules will not be shown in the module list by default.\n",
    "> NOTE: use `az ml module list --include-disabled` to list disabled modules in a workspace."
   ]
  },
  {
   "cell_type": "code",
   "execution_count": 16,
   "metadata": {},
   "outputs": [
    {
     "output_type": "stream",
     "name": "stdout",
     "text": "\u001b[K{\n  \"contact\": \"AzureML Studio Team <stcamlstudiosg@microsoft.com>\",\n  \"description\": \"Basic module for demo.\",\n  \"helpDocument\": \"http://readthedocs.com/proj\",\n  \"lastUpdatedOn\": \"2020-06-09T04:26:52.1762004Z\",\n  \"moduleID\": \"2649ccda-c83b-4b24-981d-26ec83c426d8\",\n  \"name\": \"Sample Module\",\n  \"namespace\": \"microsoft.com/office\",\n  \"registeredBy\": \"Zhidong Zhu\",\n  \"registeredOn\": \"2020-06-09T04:21:44.4617827Z\",\n  \"shared_scope\": \"Workspace\",\n  \"source\": \"Local files\",\n  \"status\": \"Disabled\",\n  \"tags\": \"nlp, bert\",\n  \"type\": \"Basic\",\n  \"version\": \"0.1.0\",\n  \"versions\": \"0.1.0 (Default), 0.1.1, 0.1.2\",\n  \"yamlLink\": \"module_spec.yaml\"\n}\n\u001b[0m"
    }
   ],
   "source": [
    "!az ml module disable --name=\"Sample Module\""
   ]
  },
  {
   "cell_type": "code",
   "execution_count": 17,
   "metadata": {},
   "outputs": [
    {
     "output_type": "stream",
     "name": "stdout",
     "text": "\u001b[KDefaultVersion    Name           Namespace                      Status    Tags\n----------------  -------------  -----------------------------  --------  ---------------\n0.0.1             First Module   microsoft.com/azureml/samples  Active    AzureML, Sample\n0.1.0             Sample Module  microsoft.com/office           Disabled  nlp, bert\n0.0.1             Mpi Module     microsoft.com/office           Active\n\u001b[0m"
    }
   ],
   "source": [
    "!az ml module list --include-disabled -o table"
   ]
  },
  {
   "cell_type": "code",
   "execution_count": 18,
   "metadata": {},
   "outputs": [
    {
     "output_type": "stream",
     "name": "stdout",
     "text": "\u001b[K{\n  \"contact\": \"AzureML Studio Team <stcamlstudiosg@microsoft.com>\",\n  \"description\": \"Basic module for demo.\",\n  \"helpDocument\": \"http://readthedocs.com/proj\",\n  \"lastUpdatedOn\": \"2020-06-09T04:27:10.225916Z\",\n  \"moduleID\": \"2649ccda-c83b-4b24-981d-26ec83c426d8\",\n  \"name\": \"Sample Module\",\n  \"namespace\": \"microsoft.com/office\",\n  \"registeredBy\": \"Zhidong Zhu\",\n  \"registeredOn\": \"2020-06-09T04:21:44.4617827Z\",\n  \"shared_scope\": \"Workspace\",\n  \"source\": \"Local files\",\n  \"status\": \"Active\",\n  \"tags\": \"nlp, bert\",\n  \"type\": \"Basic\",\n  \"version\": \"0.1.0\",\n  \"versions\": \"0.1.0 (Default), 0.1.1, 0.1.2\",\n  \"yamlLink\": \"module_spec.yaml\"\n}\n\u001b[0m"
    }
   ],
   "source": [
    "!az ml module enable --name=\"Sample Module\""
   ]
  },
  {
   "cell_type": "markdown",
   "metadata": {},
   "source": [
    "## Module download\n",
    "\n",
    "Downloads the snapshot (or optionally the module spec as yaml) of a module."
   ]
  },
  {
   "cell_type": "markdown",
   "metadata": {},
   "source": [
    "Download module to a specific folder. If `--target-dir` not specified, will download to current working directory."
   ]
  },
  {
   "cell_type": "code",
   "execution_count": 20,
   "metadata": {},
   "outputs": [
    {
     "output_type": "stream",
     "name": "stdout",
     "text": "\u001b[K{\n  \"snapshot\": \"/home/zhizhu/modules/sample-ws-Sample Module-microsoft.com_office-default.zip\"\n}\n\u001b[0m"
    }
   ],
   "source": [
    "!mkdir ~/modules\n",
    "!az ml module download --name=\"Sample Module\" --target-dir ~/modules"
   ]
  },
  {
   "cell_type": "markdown",
   "metadata": {},
   "source": [
    "Specific version could be downloaded by specifing a `--version` option."
   ]
  },
  {
   "cell_type": "code",
   "execution_count": 21,
   "metadata": {},
   "outputs": [
    {
     "output_type": "stream",
     "name": "stdout",
     "text": "\u001b[K{\n  \"snapshot\": \"/home/zhizhu/modules/sample-ws-Sample Module-microsoft.com_office-0.1.1.zip\"\n}\n\u001b[0m"
    }
   ],
   "source": [
    "!az ml module download --name=\"Sample Module\" --version=0.1.1 --target-dir ~/modules"
   ]
  },
  {
   "cell_type": "markdown",
   "metadata": {},
   "source": [
    "Download module spec along with the snapshot by specifing `--include-module-spec` option."
   ]
  },
  {
   "cell_type": "code",
   "execution_count": 22,
   "metadata": {},
   "outputs": [
    {
     "output_type": "stream",
     "name": "stdout",
     "text": "\u001b[K{\n  \"module_spec\": \"/home/zhizhu/modules/sample-ws-Sample Module-microsoft.com_office-default.yaml\",\n  \"snapshot\": \"/home/zhizhu/modules/sample-ws-Sample Module-microsoft.com_office-default.zip\"\n}\n\u001b[0m"
    }
   ],
   "source": [
    "!az ml module download --name=\"Sample Module\" --include-module-spec --target-dir ~/modules --overwrite"
   ]
  },
  {
   "cell_type": "markdown",
   "metadata": {},
   "source": [
    "Progress bar will be displayed for large modules."
   ]
  },
  {
   "cell_type": "code",
   "execution_count": 23,
   "metadata": {},
   "outputs": [
    {
     "output_type": "stream",
     "name": "stdout",
     "text": "\u001b[K{\n  \"contact\": \"AzureML Studio Team <stcamlstudiosg@microsoft.com>\",\n  \"description\": \"Basic module for demo.\",\n  \"helpDocument\": \"http://readthedocs.com/proj\",\n  \"lastUpdatedOn\": \"2020-06-09T04:28:58.3581505Z\",\n  \"moduleID\": \"f8f865fc-8f22-4340-a891-4144c629b019\",\n  \"name\": \"Sample Module\",\n  \"namespace\": \"microsoft.com/office\",\n  \"registeredBy\": \"Zhidong Zhu\",\n  \"registeredOn\": \"2020-06-09T04:21:44.4617827Z\",\n  \"shared_scope\": \"Workspace\",\n  \"source\": \"Local files\",\n  \"status\": \"Active\",\n  \"tags\": \"nlp, bert\",\n  \"type\": \"Basic\",\n  \"version\": \"0.1.3\",\n  \"versions\": \"0.1.0, 0.1.1, 0.1.2, 0.1.3 (Default)\",\n  \"yamlLink\": \"module_spec.yaml\"\n}\n\u001b[0m"
    }
   ],
   "source": [
    "!az ml module register --spec-file=resources/cli_walk_through/sample_module_0.1.3/module_spec.yaml --set-as-default-version"
   ]
  },
  {
   "cell_type": "code",
   "execution_count": 24,
   "metadata": {},
   "outputs": [
    {
     "output_type": "stream",
     "name": "stdout",
     "text": "\u001b[K{\n  \"snapshot\": \"/home/zhizhu/modules/sample-ws-Sample Module-microsoft.com_office-0.1.3.zip\"\n}\n\u001b[0m"
    }
   ],
   "source": [
    "!az ml module download --name=\"Sample Module\" --version=0.1.3 --target-dir ~/modules"
   ]
  }
 ],
 "metadata": {
  "language_info": {
   "codemirror_mode": {
    "name": "ipython",
    "version": 3
   },
   "file_extension": ".py",
   "mimetype": "text/x-python",
   "name": "python",
   "nbconvert_exporter": "python",
   "pygments_lexer": "ipython3",
   "version": "3.7.6-final"
  },
  "orig_nbformat": 2,
  "kernelspec": {
   "name": "python3",
   "display_name": "Python 3"
  }
 },
 "nbformat": 4,
 "nbformat_minor": 2
}