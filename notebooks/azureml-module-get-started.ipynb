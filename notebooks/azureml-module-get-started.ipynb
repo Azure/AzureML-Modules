{
 "cells": [
  {
   "cell_type": "markdown",
   "metadata": {},
   "source": [
    "Copyright (c) Microsoft Corporation. All rights reserved.\n",
    "\n",
    "Licensed under the MIT License. "
   ]
  },
  {
   "cell_type": "markdown",
   "metadata": {},
   "source": [
    "# Setup environment for module CLI and SDK\n",
    "\n",
    "In this tutorial you will learn how to work with Azure ML module:\n",
    "\n",
    "1. Setup environment - install module CLI and module/pipeline SDK\n",
    "2. Prepare workspace\n",
    "3. Next steps:\n",
    "   - Registering and managing modules using module CLI\n",
    "   - Use module/pipeline SDK to create a pipeline with registered modules."
   ]
  },
  {
   "cell_type": "markdown",
   "metadata": {},
   "source": [
    "\n",
    "## Prerequisites\n",
    "\n",
    "* Install Azure CLI, please follow [the Azure CLI installation instructions](https://docs.microsoft.com/en-us/cli/azure/install-azure-cli?view=azure-cli-latest) to install."
   ]
  },
  {
   "cell_type": "markdown",
   "metadata": {},
   "source": [
    "## Setup environment\n",
    "* Install Azure CLI AML extension which includes the `az ml module` command group\n",
    "* Install Azure ML SDK including the APIs to work with _module_ and _pipeline_"
   ]
  },
  {
   "cell_type": "markdown",
   "metadata": {},
   "source": [
    "Install the latest version of module CLI."
   ]
  },
  {
   "cell_type": "code",
   "execution_count": 1,
   "metadata": {},
   "outputs": [
    {
     "output_type": "stream",
     "name": "stdout",
     "text": "\u001b[0menv: CLI_SDK_VERSION=15324996\n\u001b[K - Downloading ..\u001b[K - Validating ..\u001b[K - Installing ..\u001b[0m"
    }
   ],
   "source": [
    "# Uninstall azure-cli-ml (the `az ml` commands)\n",
    "!az extension remove -n azure-cli-ml \n",
    "\n",
    "# Specify the latest version here\n",
    "%env CLI_SDK_VERSION=15324996\n",
    "\n",
    "# Install local version of azure-cli-ml (which includes `az ml module` commands)\n",
    "!az extension add --source https://azuremlsdktestpypi.azureedge.net/CLI-SDK-Runners-Validation/$CLI_SDK_VERSION/azure_cli_ml-0.1.0.$CLI_SDK_VERSION-py3-none-any.whl --pip-extra-index-urls https://azuremlsdktestpypi.azureedge.net/CLI-SDK-Runners-Validation/$CLI_SDK_VERSION --yes "
   ]
  },
  {
   "cell_type": "code",
   "execution_count": 2,
   "metadata": {},
   "outputs": [
    {
     "output_type": "stream",
     "name": "stdout",
     "text": "Experimental    ExtensionType    Name          Path                                            Preview    Version\n--------------  ---------------  ------------  ----------------------------------------------  ---------  --------------\nFalse           whl              azure-cli-ml  /home/zhizhu/.azure/cliextensions/azure-cli-ml  False      0.1.0.15324996\n\u001b[0m"
    }
   ],
   "source": [
    "# Verify the version of the azure-cli-ml extension\n",
    "!az extension list -o table"
   ]
  },
  {
   "cell_type": "markdown",
   "metadata": {},
   "source": [
    "Install the latest version of module SDK."
   ]
  },
  {
   "cell_type": "code",
   "execution_count": 3,
   "metadata": {},
   "outputs": [
    {
     "output_type": "stream",
     "name": "stdout",
     "text": "Looking in indexes: https://pypi.org/simple, https://azuremlsdktestpypi.azureedge.net/CLI-SDK-Runners-Validation/15324996\nRequirement already up-to-date: azureml-pipeline-wrapper==0.1.0.15324996 in /home/zhizhu/.local/lib/python3.7/site-packages (0.1.0.15324996)\nRequirement already satisfied, skipping upgrade: azureml-pipeline-core~=0.1.0.15324996 in /home/zhizhu/.local/lib/python3.7/site-packages (from azureml-pipeline-wrapper==0.1.0.15324996) (0.1.0.15324996)\nRequirement already satisfied, skipping upgrade: PyYAML in /home/zhizhu/anaconda3/lib/python3.7/site-packages (from azureml-pipeline-wrapper==0.1.0.15324996) (5.3)\nRequirement already satisfied, skipping upgrade: azureml-core~=0.1.0.15324996 in /home/zhizhu/.local/lib/python3.7/site-packages (from azureml-pipeline-wrapper==0.1.0.15324996) (0.1.0.15324996)\nRequirement already satisfied, skipping upgrade: nbformat in /home/zhizhu/anaconda3/lib/python3.7/site-packages (from azureml-pipeline-wrapper==0.1.0.15324996) (5.0.4)\nRequirement already satisfied, skipping upgrade: msrest>=0.5.1 in /home/zhizhu/.local/lib/python3.7/site-packages (from azureml-core~=0.1.0.15324996->azureml-pipeline-wrapper==0.1.0.15324996) (0.6.15)\nRequirement already satisfied, skipping upgrade: ruamel.yaml>0.16.7 in /home/zhizhu/.local/lib/python3.7/site-packages (from azureml-core~=0.1.0.15324996->azureml-pipeline-wrapper==0.1.0.15324996) (0.16.10)\nRequirement already satisfied, skipping upgrade: azure-mgmt-keyvault>=0.40.0 in /home/zhizhu/.local/lib/python3.7/site-packages (from azureml-core~=0.1.0.15324996->azureml-pipeline-wrapper==0.1.0.15324996) (2.2.0)\nRequirement already satisfied, skipping upgrade: azure-mgmt-storage>=1.5.0 in /home/zhizhu/.local/lib/python3.7/site-packages (from azureml-core~=0.1.0.15324996->azureml-pipeline-wrapper==0.1.0.15324996) (10.0.0)\nRequirement already satisfied, skipping upgrade: PyJWT in /home/zhizhu/.local/lib/python3.7/site-packages (from azureml-core~=0.1.0.15324996->azureml-pipeline-wrapper==0.1.0.15324996) (1.7.1)\nRequirement already satisfied, skipping upgrade: urllib3>=1.23 in /home/zhizhu/anaconda3/lib/python3.7/site-packages (from azureml-core~=0.1.0.15324996->azureml-pipeline-wrapper==0.1.0.15324996) (1.25.8)\nRequirement already satisfied, skipping upgrade: msrestazure>=0.4.33 in /home/zhizhu/.local/lib/python3.7/site-packages (from azureml-core~=0.1.0.15324996->azureml-pipeline-wrapper==0.1.0.15324996) (0.6.3)\nRequirement already satisfied, skipping upgrade: pytz in /home/zhizhu/anaconda3/lib/python3.7/site-packages (from azureml-core~=0.1.0.15324996->azureml-pipeline-wrapper==0.1.0.15324996) (2019.3)\nRequirement already satisfied, skipping upgrade: azure-graphrbac>=0.40.0 in /home/zhizhu/.local/lib/python3.7/site-packages (from azureml-core~=0.1.0.15324996->azureml-pipeline-wrapper==0.1.0.15324996) (0.61.1)\nRequirement already satisfied, skipping upgrade: azure-common>=1.1.12 in /home/zhizhu/.local/lib/python3.7/site-packages (from azureml-core~=0.1.0.15324996->azureml-pipeline-wrapper==0.1.0.15324996) (1.1.25)\nRequirement already satisfied, skipping upgrade: jmespath in /home/zhizhu/.local/lib/python3.7/site-packages (from azureml-core~=0.1.0.15324996->azureml-pipeline-wrapper==0.1.0.15324996) (0.10.0)\nRequirement already satisfied, skipping upgrade: pyopenssl in /home/zhizhu/anaconda3/lib/python3.7/site-packages (from azureml-core~=0.1.0.15324996->azureml-pipeline-wrapper==0.1.0.15324996) (19.1.0)\nRequirement already satisfied, skipping upgrade: azure-mgmt-authorization>=0.40.0 in /home/zhizhu/.local/lib/python3.7/site-packages (from azureml-core~=0.1.0.15324996->azureml-pipeline-wrapper==0.1.0.15324996) (0.60.0)\nRequirement already satisfied, skipping upgrade: docker in /home/zhizhu/.local/lib/python3.7/site-packages (from azureml-core~=0.1.0.15324996->azureml-pipeline-wrapper==0.1.0.15324996) (4.2.1)\nRequirement already satisfied, skipping upgrade: requests>=2.19.1 in /home/zhizhu/anaconda3/lib/python3.7/site-packages (from azureml-core~=0.1.0.15324996->azureml-pipeline-wrapper==0.1.0.15324996) (2.22.0)\nRequirement already satisfied, skipping upgrade: SecretStorage in /home/zhizhu/anaconda3/lib/python3.7/site-packages (from azureml-core~=0.1.0.15324996->azureml-pipeline-wrapper==0.1.0.15324996) (3.1.2)\nRequirement already satisfied, skipping upgrade: ndg-httpsclient in /home/zhizhu/.local/lib/python3.7/site-packages (from azureml-core~=0.1.0.15324996->azureml-pipeline-wrapper==0.1.0.15324996) (0.5.1)\nRequirement already satisfied, skipping upgrade: contextlib2 in /home/zhizhu/anaconda3/lib/python3.7/site-packages (from azureml-core~=0.1.0.15324996->azureml-pipeline-wrapper==0.1.0.15324996) (0.6.0.post1)\nRequirement already satisfied, skipping upgrade: azure-mgmt-containerregistry>=2.0.0 in /home/zhizhu/.local/lib/python3.7/site-packages (from azureml-core~=0.1.0.15324996->azureml-pipeline-wrapper==0.1.0.15324996) (2.8.0)\nRequirement already satisfied, skipping upgrade: cryptography!=1.9,!=2.0.*,!=2.1.*,!=2.2.* in /home/zhizhu/anaconda3/lib/python3.7/site-packages (from azureml-core~=0.1.0.15324996->azureml-pipeline-wrapper==0.1.0.15324996) (2.8)\nRequirement already satisfied, skipping upgrade: python-dateutil>=2.7.3 in /home/zhizhu/anaconda3/lib/python3.7/site-packages (from azureml-core~=0.1.0.15324996->azureml-pipeline-wrapper==0.1.0.15324996) (2.8.1)\nRequirement already satisfied, skipping upgrade: azure-mgmt-resource>=1.2.1 in /home/zhizhu/.local/lib/python3.7/site-packages (from azureml-core~=0.1.0.15324996->azureml-pipeline-wrapper==0.1.0.15324996) (10.0.0)\nRequirement already satisfied, skipping upgrade: azure-mgmt-network~=10.0 in /home/zhizhu/.local/lib/python3.7/site-packages (from azureml-core~=0.1.0.15324996->azureml-pipeline-wrapper==0.1.0.15324996) (10.2.0)\nRequirement already satisfied, skipping upgrade: jsonpickle in /home/zhizhu/.local/lib/python3.7/site-packages (from azureml-core~=0.1.0.15324996->azureml-pipeline-wrapper==0.1.0.15324996) (1.4.1)\nRequirement already satisfied, skipping upgrade: backports.tempfile in /home/zhizhu/anaconda3/lib/python3.7/site-packages (from azureml-core~=0.1.0.15324996->azureml-pipeline-wrapper==0.1.0.15324996) (1.0)\nRequirement already satisfied, skipping upgrade: pathspec in /home/zhizhu/.local/lib/python3.7/site-packages (from azureml-core~=0.1.0.15324996->azureml-pipeline-wrapper==0.1.0.15324996) (0.8.0)\nRequirement already satisfied, skipping upgrade: adal>=1.2.0 in /home/zhizhu/.local/lib/python3.7/site-packages (from azureml-core~=0.1.0.15324996->azureml-pipeline-wrapper==0.1.0.15324996) (1.2.3)\nRequirement already satisfied, skipping upgrade: jupyter-core in /home/zhizhu/anaconda3/lib/python3.7/site-packages (from nbformat->azureml-pipeline-wrapper==0.1.0.15324996) (4.6.1)\nRequirement already satisfied, skipping upgrade: traitlets>=4.1 in /home/zhizhu/anaconda3/lib/python3.7/site-packages (from nbformat->azureml-pipeline-wrapper==0.1.0.15324996) (4.3.3)\nRequirement already satisfied, skipping upgrade: ipython-genutils in /home/zhizhu/anaconda3/lib/python3.7/site-packages (from nbformat->azureml-pipeline-wrapper==0.1.0.15324996) (0.2.0)\nRequirement already satisfied, skipping upgrade: jsonschema!=2.5.0,>=2.4 in /home/zhizhu/anaconda3/lib/python3.7/site-packages (from nbformat->azureml-pipeline-wrapper==0.1.0.15324996) (3.2.0)\nRequirement already satisfied, skipping upgrade: requests-oauthlib>=0.5.0 in /home/zhizhu/.local/lib/python3.7/site-packages (from msrest>=0.5.1->azureml-core~=0.1.0.15324996->azureml-pipeline-wrapper==0.1.0.15324996) (1.3.0)\nRequirement already satisfied, skipping upgrade: isodate>=0.6.0 in /home/zhizhu/.local/lib/python3.7/site-packages (from msrest>=0.5.1->azureml-core~=0.1.0.15324996->azureml-pipeline-wrapper==0.1.0.15324996) (0.6.0)\nRequirement already satisfied, skipping upgrade: certifi>=2017.4.17 in /home/zhizhu/anaconda3/lib/python3.7/site-packages (from msrest>=0.5.1->azureml-core~=0.1.0.15324996->azureml-pipeline-wrapper==0.1.0.15324996) (2019.11.28)\nRequirement already satisfied, skipping upgrade: ruamel.yaml.clib>=0.1.2; platform_python_implementation == \"CPython\" and python_version < \"3.9\" in /home/zhizhu/.local/lib/python3.7/site-packages (from ruamel.yaml>0.16.7->azureml-core~=0.1.0.15324996->azureml-pipeline-wrapper==0.1.0.15324996) (0.2.0)\nRequirement already satisfied, skipping upgrade: six>=1.5.2 in /home/zhizhu/anaconda3/lib/python3.7/site-packages (from pyopenssl->azureml-core~=0.1.0.15324996->azureml-pipeline-wrapper==0.1.0.15324996) (1.14.0)\nRequirement already satisfied, skipping upgrade: websocket-client>=0.32.0 in /home/zhizhu/.local/lib/python3.7/site-packages (from docker->azureml-core~=0.1.0.15324996->azureml-pipeline-wrapper==0.1.0.15324996) (0.57.0)\nRequirement already satisfied, skipping upgrade: chardet<3.1.0,>=3.0.2 in /home/zhizhu/anaconda3/lib/python3.7/site-packages (from requests>=2.19.1->azureml-core~=0.1.0.15324996->azureml-pipeline-wrapper==0.1.0.15324996) (3.0.4)\nRequirement already satisfied, skipping upgrade: idna<2.9,>=2.5 in /home/zhizhu/anaconda3/lib/python3.7/site-packages (from requests>=2.19.1->azureml-core~=0.1.0.15324996->azureml-pipeline-wrapper==0.1.0.15324996) (2.8)\nRequirement already satisfied, skipping upgrade: jeepney>=0.4.2 in /home/zhizhu/anaconda3/lib/python3.7/site-packages (from SecretStorage->azureml-core~=0.1.0.15324996->azureml-pipeline-wrapper==0.1.0.15324996) (0.4.2)\nRequirement already satisfied, skipping upgrade: pyasn1>=0.1.1 in /home/zhizhu/.local/lib/python3.7/site-packages (from ndg-httpsclient->azureml-core~=0.1.0.15324996->azureml-pipeline-wrapper==0.1.0.15324996) (0.4.8)\nRequirement already satisfied, skipping upgrade: cffi!=1.11.3,>=1.8 in /home/zhizhu/anaconda3/lib/python3.7/site-packages (from cryptography!=1.9,!=2.0.*,!=2.1.*,!=2.2.*->azureml-core~=0.1.0.15324996->azureml-pipeline-wrapper==0.1.0.15324996) (1.14.0)\nRequirement already satisfied, skipping upgrade: importlib-metadata in /home/zhizhu/anaconda3/lib/python3.7/site-packages (from jsonpickle->azureml-core~=0.1.0.15324996->azureml-pipeline-wrapper==0.1.0.15324996) (1.5.0)\nRequirement already satisfied, skipping upgrade: backports.weakref in /home/zhizhu/anaconda3/lib/python3.7/site-packages (from backports.tempfile->azureml-core~=0.1.0.15324996->azureml-pipeline-wrapper==0.1.0.15324996) (1.0.post1)\nRequirement already satisfied, skipping upgrade: decorator in /home/zhizhu/anaconda3/lib/python3.7/site-packages (from traitlets>=4.1->nbformat->azureml-pipeline-wrapper==0.1.0.15324996) (4.4.1)\nRequirement already satisfied, skipping upgrade: attrs>=17.4.0 in /home/zhizhu/anaconda3/lib/python3.7/site-packages (from jsonschema!=2.5.0,>=2.4->nbformat->azureml-pipeline-wrapper==0.1.0.15324996) (19.3.0)\nRequirement already satisfied, skipping upgrade: setuptools in /home/zhizhu/anaconda3/lib/python3.7/site-packages (from jsonschema!=2.5.0,>=2.4->nbformat->azureml-pipeline-wrapper==0.1.0.15324996) (45.2.0.post20200210)\nRequirement already satisfied, skipping upgrade: pyrsistent>=0.14.0 in /home/zhizhu/anaconda3/lib/python3.7/site-packages (from jsonschema!=2.5.0,>=2.4->nbformat->azureml-pipeline-wrapper==0.1.0.15324996) (0.15.7)\nRequirement already satisfied, skipping upgrade: oauthlib>=3.0.0 in /home/zhizhu/.local/lib/python3.7/site-packages (from requests-oauthlib>=0.5.0->msrest>=0.5.1->azureml-core~=0.1.0.15324996->azureml-pipeline-wrapper==0.1.0.15324996) (3.1.0)\nRequirement already satisfied, skipping upgrade: pycparser in /home/zhizhu/anaconda3/lib/python3.7/site-packages (from cffi!=1.11.3,>=1.8->cryptography!=1.9,!=2.0.*,!=2.1.*,!=2.2.*->azureml-core~=0.1.0.15324996->azureml-pipeline-wrapper==0.1.0.15324996) (2.19)\nRequirement already satisfied, skipping upgrade: zipp>=0.5 in /home/zhizhu/anaconda3/lib/python3.7/site-packages (from importlib-metadata->jsonpickle->azureml-core~=0.1.0.15324996->azureml-pipeline-wrapper==0.1.0.15324996) (2.2.0)\n"
    }
   ],
   "source": [
    "%config IPCompleter.greedy=True\n",
    "!pip install azureml-pipeline-wrapper[notebook]==0.1.0.$CLI_SDK_VERSION --extra-index-url https://azuremlsdktestpypi.azureedge.net/CLI-SDK-Runners-Validation/$CLI_SDK_VERSION --user --upgrade\n"
   ]
  },
  {
   "cell_type": "markdown",
   "metadata": {},
   "source": [
    "Restart the kernel to make sure the newly installed package applied successfully."
   ]
  },
  {
   "cell_type": "markdown",
   "metadata": {},
   "source": [
    "## Specify information of the workspace \n"
   ]
  },
  {
   "cell_type": "code",
   "execution_count": 4,
   "metadata": {},
   "outputs": [],
   "source": [
    "# Update the following information with your environment\n",
    "\n",
    "SUBSCRIPTION_ID = 'e9b2ec51-5c94-4fa8-809a-dc1e695e4896'\n",
    "WORKSPACE_NAME = 'sample-ws'\n",
    "RESOURCE_GROUP_NAME = 'sample-ws-rg'"
   ]
  },
  {
   "cell_type": "markdown",
   "metadata": {},
   "source": [
    "## Login and set the default subscription\n",
    "\n",
    "Login with the azure CLI and optionally set the default subscription."
   ]
  },
  {
   "cell_type": "code",
   "execution_count": 5,
   "metadata": {},
   "outputs": [
    {
     "output_type": "stream",
     "name": "stdout",
     "text": "\u001b[33mTo sign in, use a web browser to open the page https://microsoft.com/devicelogin and enter the code BUAEXPBGA to authenticate.\u001b[0m\nCloudName    HomeTenantId                          IsDefault    Name                                                            State    TenantId\n-----------  ------------------------------------  -----------  --------------------------------------------------------------  -------  ------------------------------------\nAzureCloud   72f988bf-86f1-41af-91ab-2d7cd011db47  False        Deep Learning Group                                             Enabled  72f988bf-86f1-41af-91ab-2d7cd011db47\nAzureCloud   72f988bf-86f1-41af-91ab-2d7cd011db47  False        Aml.DataScience                                                 Enabled  72f988bf-86f1-41af-91ab-2d7cd011db47\nAzureCloud   72f988bf-86f1-41af-91ab-2d7cd011db47  False        Epic-Edge-ES-MergeResolver                                      Enabled  72f988bf-86f1-41af-91ab-2d7cd011db47\nAzureCloud   72f988bf-86f1-41af-91ab-2d7cd011db47  False        AML V1 INT 1                                                    Enabled  72f988bf-86f1-41af-91ab-2d7cd011db47\nAzureCloud   72f988bf-86f1-41af-91ab-2d7cd011db47  False        AML V1 Personal 1                                               Enabled  72f988bf-86f1-41af-91ab-2d7cd011db47\nAzureCloud   72f988bf-86f1-41af-91ab-2d7cd011db47  False        AML V1 Build 2                                                  Enabled  72f988bf-86f1-41af-91ab-2d7cd011db47\nAzureCloud   72f988bf-86f1-41af-91ab-2d7cd011db47  True         AML V1 Personal 2                                               Enabled  72f988bf-86f1-41af-91ab-2d7cd011db47\nAzureCloud   72f988bf-86f1-41af-91ab-2d7cd011db47  False        AML V1 Stress 1                                                 Enabled  72f988bf-86f1-41af-91ab-2d7cd011db47\nAzureCloud   72f988bf-86f1-41af-91ab-2d7cd011db47  False        MAML Production_20_2 WestCentralUS                              Enabled  72f988bf-86f1-41af-91ab-2d7cd011db47\nAzureCloud   72f988bf-86f1-41af-91ab-2d7cd011db47  False        AML V1 Build 1                                                  Enabled  72f988bf-86f1-41af-91ab-2d7cd011db47\nAzureCloud   72f988bf-86f1-41af-91ab-2d7cd011db47  False        AML V1 INT 2                                                    Enabled  72f988bf-86f1-41af-91ab-2d7cd011db47\nAzureCloud   72f988bf-86f1-41af-91ab-2d7cd011db47  False        Project Vienna PROD - WestUS2                                   Enabled  72f988bf-86f1-41af-91ab-2d7cd011db47\nAzureCloud   72f988bf-86f1-41af-91ab-2d7cd011db47  False        MAML Production_16 Australia                                    Enabled  72f988bf-86f1-41af-91ab-2d7cd011db47\nAzureCloud   72f988bf-86f1-41af-91ab-2d7cd011db47  False        CS-Platform-Dev-01                                              Enabled  72f988bf-86f1-41af-91ab-2d7cd011db47\nAzureCloud   72f988bf-86f1-41af-91ab-2d7cd011db47  False        GAIN Data                                                       Enabled  72f988bf-86f1-41af-91ab-2d7cd011db47\nAzureCloud   72f988bf-86f1-41af-91ab-2d7cd011db47  False        AutoML Demo                                                     Enabled  72f988bf-86f1-41af-91ab-2d7cd011db47\nAzureCloud   72f988bf-86f1-41af-91ab-2d7cd011db47  False        TScience                                                        Enabled  72f988bf-86f1-41af-91ab-2d7cd011db47\nAzureCloud   72f988bf-86f1-41af-91ab-2d7cd011db47  False        MSR AI - MLO                                                    Enabled  72f988bf-86f1-41af-91ab-2d7cd011db47\nAzureCloud   72f988bf-86f1-41af-91ab-2d7cd011db47  False        Customer 360 DevTest 001                                        Enabled  72f988bf-86f1-41af-91ab-2d7cd011db47\nAzureCloud   72f988bf-86f1-41af-91ab-2d7cd011db47  False        Skype-NetEM-PROD                                                Enabled  72f988bf-86f1-41af-91ab-2d7cd011db47\nAzureCloud   72f988bf-86f1-41af-91ab-2d7cd011db47  False        Code generate Test and Infra                                    Enabled  72f988bf-86f1-41af-91ab-2d7cd011db47\nAzureCloud   72f988bf-86f1-41af-91ab-2d7cd011db47  False        EvanBaCore                                                      Enabled  72f988bf-86f1-41af-91ab-2d7cd011db47\nAzureCloud   72f988bf-86f1-41af-91ab-2d7cd011db47  False        ServicesPortfolio MCS                                           Enabled  72f988bf-86f1-41af-91ab-2d7cd011db47\nAzureCloud   72f988bf-86f1-41af-91ab-2d7cd011db47  False        Edge DevTools Client                                            Enabled  72f988bf-86f1-41af-91ab-2d7cd011db47\nAzureCloud   72f988bf-86f1-41af-91ab-2d7cd011db47  False        Project Vienna PROD - Brazil South                              Enabled  72f988bf-86f1-41af-91ab-2d7cd011db47\nAzureCloud   72f988bf-86f1-41af-91ab-2d7cd011db47  False        Project Vienna PROD - EastUS                                    Enabled  72f988bf-86f1-41af-91ab-2d7cd011db47\nAzureCloud   72f988bf-86f1-41af-91ab-2d7cd011db47  False        Project Vienna - Runner Resource Creation - AustraliaEast       Enabled  72f988bf-86f1-41af-91ab-2d7cd011db47\nAzureCloud   72f988bf-86f1-41af-91ab-2d7cd011db47  False        Project Vienna - Runner Resource Creation - CentralUS           Enabled  72f988bf-86f1-41af-91ab-2d7cd011db47\nAzureCloud   72f988bf-86f1-41af-91ab-2d7cd011db47  False        Project Vienna PROD - WestCentralUS                             Enabled  72f988bf-86f1-41af-91ab-2d7cd011db47\nAzureCloud   72f988bf-86f1-41af-91ab-2d7cd011db47  False        Project Vienna PROD-CanadaCentral                               Enabled  72f988bf-86f1-41af-91ab-2d7cd011db47\nAzureCloud   72f988bf-86f1-41af-91ab-2d7cd011db47  False        Project Vienna INT                                              Enabled  72f988bf-86f1-41af-91ab-2d7cd011db47\nAzureCloud   72f988bf-86f1-41af-91ab-2d7cd011db47  False        Project Vienna Personal 2                                       Enabled  72f988bf-86f1-41af-91ab-2d7cd011db47\nAzureCloud   72f988bf-86f1-41af-91ab-2d7cd011db47  False        Project Vienna PROD - WestEurope                                Enabled  72f988bf-86f1-41af-91ab-2d7cd011db47\nAzureCloud   72f988bf-86f1-41af-91ab-2d7cd011db47  False        Project Vienna Build                                            Enabled  72f988bf-86f1-41af-91ab-2d7cd011db47\nAzureCloud   72f988bf-86f1-41af-91ab-2d7cd011db47  False        Project Vienna PROD - Central India                             Enabled  72f988bf-86f1-41af-91ab-2d7cd011db47\nAzureCloud   72f988bf-86f1-41af-91ab-2d7cd011db47  False        Project Vienna - Runner Resource Creation - AustraliaSoutheast  Enabled  72f988bf-86f1-41af-91ab-2d7cd011db47\nAzureCloud   72f988bf-86f1-41af-91ab-2d7cd011db47  False        Project Vienna Test - Geneva GSM Storage Accounts               Enabled  72f988bf-86f1-41af-91ab-2d7cd011db47\nAzureCloud   72f988bf-86f1-41af-91ab-2d7cd011db47  False        Project Vienna PROD - CentralUS                                 Enabled  72f988bf-86f1-41af-91ab-2d7cd011db47\nAzureCloud   72f988bf-86f1-41af-91ab-2d7cd011db47  False        Project Vienna - Runner Resource Creation - EastUS2             Enabled  72f988bf-86f1-41af-91ab-2d7cd011db47\nAzureCloud   72f988bf-86f1-41af-91ab-2d7cd011db47  False        Project Vienna - Runner Resource Creation - Japan East          Enabled  72f988bf-86f1-41af-91ab-2d7cd011db47\nAzureCloud   72f988bf-86f1-41af-91ab-2d7cd011db47  False        Project Vienna - Runner Resource Creation - UKWest              Enabled  72f988bf-86f1-41af-91ab-2d7cd011db47\nAzureCloud   72f988bf-86f1-41af-91ab-2d7cd011db47  False        Project Vienna PROD - NorthCentralUS                            Enabled  72f988bf-86f1-41af-91ab-2d7cd011db47\nAzureCloud   72f988bf-86f1-41af-91ab-2d7cd011db47  False        Data Wrangling development                                      Enabled  72f988bf-86f1-41af-91ab-2d7cd011db47\nAzureCloud   72f988bf-86f1-41af-91ab-2d7cd011db47  False        Project Vienna - Runner Resource Creation - Brazil South        Enabled  72f988bf-86f1-41af-91ab-2d7cd011db47\nAzureCloud   72f988bf-86f1-41af-91ab-2d7cd011db47  False        Project Vienna PROD - SoutheastAsia                             Enabled  72f988bf-86f1-41af-91ab-2d7cd011db47\nAzureCloud   72f988bf-86f1-41af-91ab-2d7cd011db47  False        Project Vienna PROD - UKSouth                                   Enabled  72f988bf-86f1-41af-91ab-2d7cd011db47\nAzureCloud   72f988bf-86f1-41af-91ab-2d7cd011db47  False        Project Vienna PROD - Japan East                                Enabled  72f988bf-86f1-41af-91ab-2d7cd011db47\nAzureCloud   72f988bf-86f1-41af-91ab-2d7cd011db47  False        MAML-INT Community MIGRATED NO NEW SERVICES                     Enabled  72f988bf-86f1-41af-91ab-2d7cd011db47\nAzureCloud   72f988bf-86f1-41af-91ab-2d7cd011db47  False        Project Vienna PROD - EastAsia                                  Enabled  72f988bf-86f1-41af-91ab-2d7cd011db47\nAzureCloud   72f988bf-86f1-41af-91ab-2d7cd011db47  False        Project Vienna - Runner Resource Creation - France Central      Enabled  72f988bf-86f1-41af-91ab-2d7cd011db47\nAzureCloud   72f988bf-86f1-41af-91ab-2d7cd011db47  False        Project Vienna PROD - NorthEurope                               Enabled  72f988bf-86f1-41af-91ab-2d7cd011db47\nAzureCloud   72f988bf-86f1-41af-91ab-2d7cd011db47  False        Project Vienna PROD - SouthCentralUS                            Enabled  72f988bf-86f1-41af-91ab-2d7cd011db47\nAzureCloud   72f988bf-86f1-41af-91ab-2d7cd011db47  False        Project Vienna - Runner Resource Creation - SouthCentralUS      Enabled  72f988bf-86f1-41af-91ab-2d7cd011db47\nAzureCloud   72f988bf-86f1-41af-91ab-2d7cd011db47  False        Project Vienna - Runner Resource Creation - Korea Central       Enabled  72f988bf-86f1-41af-91ab-2d7cd011db47\nAzureCloud   72f988bf-86f1-41af-91ab-2d7cd011db47  False        Project Vienna PROD - EastUS2                                   Enabled  72f988bf-86f1-41af-91ab-2d7cd011db47\nAzureCloud   72f988bf-86f1-41af-91ab-2d7cd011db47  False        Project Vienna - Runner Resource Creation - Master              Enabled  72f988bf-86f1-41af-91ab-2d7cd011db47\nAzureCloud   72f988bf-86f1-41af-91ab-2d7cd011db47  False        Project Vienna - Runner Resource Creation - UKSouth             Enabled  72f988bf-86f1-41af-91ab-2d7cd011db47\nAzureCloud   72f988bf-86f1-41af-91ab-2d7cd011db47  False        Project Vienna - Runner Resource Creation - WestCentralUS       Enabled  72f988bf-86f1-41af-91ab-2d7cd011db47\nAzureCloud   72f988bf-86f1-41af-91ab-2d7cd011db47  False        Project Vienna PROD - Korea Central                             Enabled  72f988bf-86f1-41af-91ab-2d7cd011db47\nAzureCloud   72f988bf-86f1-41af-91ab-2d7cd011db47  False        Project Vienna Personal 1                                       Enabled  72f988bf-86f1-41af-91ab-2d7cd011db47\nAzureCloud   72f988bf-86f1-41af-91ab-2d7cd011db47  False        Project Vienna PROD - EastUS2EUAP                               Enabled  72f988bf-86f1-41af-91ab-2d7cd011db47\nAzureCloud   72f988bf-86f1-41af-91ab-2d7cd011db47  False        Project Vienna PROD - Global                                    Enabled  72f988bf-86f1-41af-91ab-2d7cd011db47\nAzureCloud   72f988bf-86f1-41af-91ab-2d7cd011db47  False        Project Vienna - Runner Resource Creation - WestUS              Enabled  72f988bf-86f1-41af-91ab-2d7cd011db47\nAzureCloud   72f988bf-86f1-41af-91ab-2d7cd011db47  False        Project Vienna - Runner Resource Creation - NorthCentralUS      Enabled  72f988bf-86f1-41af-91ab-2d7cd011db47\nAzureCloud   72f988bf-86f1-41af-91ab-2d7cd011db47  False        Project Vienna Personal 3                                       Enabled  72f988bf-86f1-41af-91ab-2d7cd011db47\nAzureCloud   72f988bf-86f1-41af-91ab-2d7cd011db47  False        Project Vienna - Runner Resource Creation - EastUS              Enabled  72f988bf-86f1-41af-91ab-2d7cd011db47\nAzureCloud   72f988bf-86f1-41af-91ab-2d7cd011db47  False        Project Vienna - Runner Resource Creation - WestUS2             Enabled  72f988bf-86f1-41af-91ab-2d7cd011db47\nAzureCloud   72f988bf-86f1-41af-91ab-2d7cd011db47  False        Project Vienna - Runner Resource Creation - EastUS2EUAP         Enabled  72f988bf-86f1-41af-91ab-2d7cd011db47\nAzureCloud   72f988bf-86f1-41af-91ab-2d7cd011db47  False        Project Vienna PROD - AustraliaEast                             Enabled  72f988bf-86f1-41af-91ab-2d7cd011db47\nAzureCloud   72f988bf-86f1-41af-91ab-2d7cd011db47  False        Project Vienna - Runner Resource Creation - SouthEastAsia       Enabled  72f988bf-86f1-41af-91ab-2d7cd011db47\nAzureCloud   72f988bf-86f1-41af-91ab-2d7cd011db47  False        Project Vienna - Runner Resource Creation - EastAsia            Enabled  72f988bf-86f1-41af-91ab-2d7cd011db47\nAzureCloud   72f988bf-86f1-41af-91ab-2d7cd011db47  False        Project Vienna - Runner Resource Creation - CanadaCentral       Enabled  72f988bf-86f1-41af-91ab-2d7cd011db47\nAzureCloud   72f988bf-86f1-41af-91ab-2d7cd011db47  False        Project Vienna Build Tests                                      Enabled  72f988bf-86f1-41af-91ab-2d7cd011db47\nAzureCloud   72f988bf-86f1-41af-91ab-2d7cd011db47  False        Project Vienna - Runner Resource Creation - NorthEurope         Enabled  72f988bf-86f1-41af-91ab-2d7cd011db47\nAzureCloud   72f988bf-86f1-41af-91ab-2d7cd011db47  False        Project Vienna Ephemeral                                        Enabled  72f988bf-86f1-41af-91ab-2d7cd011db47\nAzureCloud   72f988bf-86f1-41af-91ab-2d7cd011db47  False        Project Vienna PROD - CentralUSEUAP                             Enabled  72f988bf-86f1-41af-91ab-2d7cd011db47\nAzureCloud   72f988bf-86f1-41af-91ab-2d7cd011db47  False        Project Vienna - Runner Resource Creation - Central India       Enabled  72f988bf-86f1-41af-91ab-2d7cd011db47\nAzureCloud   72f988bf-86f1-41af-91ab-2d7cd011db47  False        Project Vienna PROD - France Central                            Enabled  72f988bf-86f1-41af-91ab-2d7cd011db47\nAzureCloud   72f988bf-86f1-41af-91ab-2d7cd011db47  False        Project Vienna PROD - WestUS                                    Enabled  72f988bf-86f1-41af-91ab-2d7cd011db47\nAzureCloud   72f988bf-86f1-41af-91ab-2d7cd011db47  False        Project Vienna - Runner Resource Creation - WestEurope          Enabled  72f988bf-86f1-41af-91ab-2d7cd011db47\nAzureCloud   72f988bf-86f1-41af-91ab-2d7cd011db47  False        Project Vienna Stress                                           Enabled  72f988bf-86f1-41af-91ab-2d7cd011db47\nAzureCloud   72f988bf-86f1-41af-91ab-2d7cd011db47  False        Core-ES-WorkManagement                                          Enabled  72f988bf-86f1-41af-91ab-2d7cd011db47\nAzureCloud   72f988bf-86f1-41af-91ab-2d7cd011db47  False        Subscription-1                                                  Enabled  72f988bf-86f1-41af-91ab-2d7cd011db47\n\u001b[0m"
    }
   ],
   "source": [
    "!az login -o table"
   ]
  },
  {
   "cell_type": "markdown",
   "metadata": {},
   "source": [
    "Set default subscription using the following command if needed."
   ]
  },
  {
   "cell_type": "code",
   "execution_count": 6,
   "metadata": {},
   "outputs": [
    {
     "output_type": "stream",
     "name": "stdout",
     "text": "\u001b[0m"
    }
   ],
   "source": [
    "!az account set -s $SUBSCRIPTION_ID"
   ]
  },
  {
   "cell_type": "markdown",
   "metadata": {},
   "source": [
    "## Prepare workspace\n",
    "\n",
    "Prepare a workspace to register modules and create pipelines.\n",
    "* Create a new workspace if not already have one.\n",
    "* Create default data types for the newly created workspace.\n",
    "* Set the workspace as default.\n"
   ]
  },
  {
   "cell_type": "markdown",
   "metadata": {},
   "source": [
    "If the workspace or resource group does not already exist, use the following command to create."
   ]
  },
  {
   "cell_type": "code",
   "execution_count": 7,
   "metadata": {},
   "outputs": [
    {
     "output_type": "stream",
     "name": "stdout",
     "text": "{\n  \"id\": \"/subscriptions/e9b2ec51-5c94-4fa8-809a-dc1e695e4896/resourceGroups/sample-ws-rg\",\n  \"location\": \"eastus\",\n  \"managedBy\": null,\n  \"name\": \"sample-ws-rg\",\n  \"properties\": {\n    \"provisioningState\": \"Succeeded\"\n  },\n  \"tags\": null,\n  \"type\": \"Microsoft.Resources/resourceGroups\"\n}\n\u001b[0mDeploying KeyVault with name samplewskeyvault3bb474d3.\nDeploying AppInsights with name samplewsinsights69842907.\nDeployed AppInsights with name samplewsinsights69842907. Took 3.15 seconds.\nDeploying StorageAccount with name samplewsstorage38faceb8c.\nDeployed KeyVault with name samplewskeyvault3bb474d3. Took 19.14 seconds.\nDeploying Workspace with name sample-ws.\nDeployed StorageAccount with name samplewsstorage38faceb8c. Took 22.53 seconds.\nDeployed Workspace with name sample-ws. Took 131.99 seconds.\n{\n  \"applicationInsights\": \"/subscriptions/e9b2ec51-5c94-4fa8-809a-dc1e695e4896/resourcegroups/sample-ws-rg/providers/microsoft.insights/components/samplewsinsights69842907\",\n  \"creationTime\": \"2020-06-09T03:29:26.0307831+00:00\",\n  \"description\": \"\",\n  \"discoveryUrl\": \"https://eastus.experiments.azureml.net/discovery\",\n  \"friendlyName\": \"sample-ws\",\n  \"hbiWorkspace\": false,\n  \"id\": \"/subscriptions/e9b2ec51-5c94-4fa8-809a-dc1e695e4896/resourceGroups/sample-ws-rg/providers/Microsoft.MachineLearningServices/workspaces/sample-ws\",\n  \"identityPrincipalId\": \"1c22ced5-bae6-40b2-b24a-f9b0f4975fcd\",\n  \"identityTenantId\": \"72f988bf-86f1-41af-91ab-2d7cd011db47\",\n  \"identityType\": \"SystemAssigned\",\n  \"keyVault\": \"/subscriptions/e9b2ec51-5c94-4fa8-809a-dc1e695e4896/resourcegroups/sample-ws-rg/providers/microsoft.keyvault/vaults/samplewskeyvault3bb474d3\",\n  \"location\": \"eastus\",\n  \"name\": \"sample-ws\",\n  \"resourceGroup\": \"sample-ws-rg\",\n  \"sku\": \"Enterprise\",\n  \"storageAccount\": \"/subscriptions/e9b2ec51-5c94-4fa8-809a-dc1e695e4896/resourcegroups/sample-ws-rg/providers/microsoft.storage/storageaccounts/samplewsstorage38faceb8c\",\n  \"type\": \"Microsoft.MachineLearningServices/workspaces\",\n  \"workspaceid\": \"40d8a945-1cb2-4785-94f1-181984513dcc\"\n}\n\u001b[0m"
    }
   ],
   "source": [
    "!az group create -g $RESOURCE_GROUP_NAME --location eastus\n",
    "!az ml workspace create -w $WORKSPACE_NAME -g $RESOURCE_GROUP_NAME --sku=enterprise"
   ]
  },
  {
   "cell_type": "markdown",
   "metadata": {},
   "source": [
    "Use the following command to set the default workspace. After setting default workspace:\n",
    "* The workspace could be retrieved using `Workspace.from_config()` from Python code.\n",
    "* It is not required to specify workspace information for each `az ml` command, the workspace information could be retrieved automatically from the config."
   ]
  },
  {
   "cell_type": "code",
   "execution_count": 8,
   "metadata": {},
   "outputs": [
    {
     "output_type": "stream",
     "name": "stdout",
     "text": "{\n  \"Experiment name\": \"notebooks\",\n  \"Project path\": \"/home/zhizhu/ModuleDocs/notebooks\",\n  \"Resource group\": \"sample-ws-rg\",\n  \"Subscription id\": \"e9b2ec51-5c94-4fa8-809a-dc1e695e4896\",\n  \"Workspace name\": \"sample-ws\"\n}\n\u001b[0m"
    }
   ],
   "source": [
    "!az ml folder attach -w $WORKSPACE_NAME -g $RESOURCE_GROUP_NAME"
   ]
  },
  {
   "cell_type": "markdown",
   "metadata": {},
   "source": [
    "For newly created workspaces, the default DataTypes (`AnyFile`, `AnyDirectory`) should be registered before module registration.\n",
    "\n",
    "Use the following code to register defalt data types:"
   ]
  },
  {
   "cell_type": "code",
   "execution_count": 9,
   "metadata": {},
   "outputs": [
    {
     "output_type": "stream",
     "name": "stderr",
     "text": "Warning: Falling back to use azure cli login credentials.\nIf you run your code in unattended mode, i.e., where you can't give a user input, then we recommend to use ServicePrincipalAuthentication or MsiAuthentication.\nPlease refer to aka.ms/aml-notebook-auth for different authentication mechanisms in azureml-sdk.\n"
    },
    {
     "output_type": "execute_result",
     "data": {
      "text/plain": "[<azureml.pipeline.core.graph.DataType at 0x7fa29c181950>,\n <azureml.pipeline.core.graph.DataType at 0x7fa29c181290>,\n <azureml.pipeline.core.graph.DataType at 0x7fa29c181750>,\n <azureml.pipeline.core.graph.DataType at 0x7fa29c181a90>,\n <azureml.pipeline.core.graph.DataType at 0x7fa29c181910>,\n <azureml.pipeline.core.graph.DataType at 0x7fa29c181a10>,\n <azureml.pipeline.core.graph.DataType at 0x7fa29c181d90>,\n <azureml.pipeline.core.graph.DataType at 0x7fa29c189fd0>,\n <azureml.pipeline.core.graph.DataType at 0x7fa29c189050>,\n <azureml.pipeline.core.graph.DataType at 0x7fa29c181610>]"
     },
     "metadata": {},
     "execution_count": 9
    }
   ],
   "source": [
    "from azureml.core import Workspace\n",
    "from azureml.pipeline.core.graph import DataType\n",
    "\n",
    "ws = Workspace.from_config()\n",
    "# call list_data_type will trigger the registration of default datatypes such as AnyFile, AnyDirectory\n",
    "DataType.list_data_types(ws)"
   ]
  },
  {
   "cell_type": "markdown",
   "metadata": {},
   "source": [
    "## Next steps\n",
    "\n",
    "Now you are prepared for the module CLI and SDK. You could check the following instructions for further tasks:\n",
    "* [Operating modules using the module CLI](azureml-module-cli-walk-through.ipynb)\n",
    "* [Creating a pipeline using module SDK](azureml-module-create-pipeline.ipynb)"
   ]
  }
 ],
 "metadata": {
  "kernelspec": {
   "display_name": "Python 3",
   "language": "python",
   "name": "python3"
  },
  "language_info": {
   "codemirror_mode": {
    "name": "ipython",
    "version": 3
   },
   "file_extension": ".py",
   "mimetype": "text/x-python",
   "name": "python",
   "nbconvert_exporter": "python",
   "pygments_lexer": "ipython3",
   "version": "3.7.6-final"
  }
 },
 "nbformat": 4,
 "nbformat_minor": 2
}